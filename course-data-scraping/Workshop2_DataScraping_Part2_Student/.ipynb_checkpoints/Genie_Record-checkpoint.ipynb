{
 "cells": [
  {
   "cell_type": "markdown",
   "metadata": {
    "colab_type": "text",
    "id": "vcArxe_MI7wa"
   },
   "source": [
    "# Free Lab : วงดนตรีสังกัดค่ายเพลง Genie records"
   ]
  },
  {
   "cell_type": "markdown",
   "metadata": {
    "colab_type": "text",
    "id": "wwmST-dWI7wc"
   },
   "source": [
    "เขียนโค้ดเพื่อดึงรายชื่อวงดนตรีในสังกัดค่ายเพลง Genie records  จากวิกิพีเดีย:  https://th.wikipedia.org/wiki/จีนี่เรคอร์ดส\n",
    "\n",
    "<img src=\"source/genie_record.jpg\" width=\"1000\"/>"
   ]
  },
  {
   "cell_type": "markdown",
   "metadata": {
    "colab_type": "text",
    "id": "wUA_K8PoumLn"
   },
   "source": [
    "### คำตอบของผลลัพธ์จะต้องได้ตามนี้\n",
    "\n",
    "`พาราด็อกซ์ Paradox`\n",
    "\n",
    "`บิ๊กแอส Big Ass`\n",
    "\n",
    "`ลาบานูน Labanoon`\n",
    "\n",
    "`เรโทรสเปกต์ Retrospect`\n",
    "\n",
    "`โปเตโต้ Potato`\n",
    "\n",
    "`บอดี้สแลม Bodyslam`\n",
    "\n",
    "`ค็อกเทล Cocktail`\n",
    "\n",
    "`สวีตมัลเล็ต Sweet Mullet`\n",
    "\n",
    "`เดอะเยอร์ส The Yers`\n",
    "\n",
    "`อินสติงต์ Instinct`\n",
    "\n",
    "`เดอะมูสส์ The Mousses`\n",
    "\n",
    "`เคลียร์ Klear`\n",
    "\n",
    "`ทเวนตีไฟฟ์อาเวอส์ 25 hours`\n",
    "\n",
    "`เยสเซอร์เดส์ Yes'sir Days`"
   ]
  },
  {
   "cell_type": "code",
   "execution_count": null,
   "metadata": {
    "colab": {
     "autoexec": {
      "startup": false,
      "wait_interval": 0
     }
    },
    "colab_type": "code",
    "id": "kj75OcFC--Q0"
   },
   "outputs": [],
   "source": [
    "# Your code here\n",
    "\n",
    "# Step 1 : import library [ ไปลอก import จากตัวอย่าง 02-web_scraping.ipynb มาเลย ]\n",
    "\n",
    "\n",
    "#Step 2  : เปลี่ยน 'จีนี่เรคอร์ดส' ให้อยู่ในรูป percent-encoded string แล้วเก็บไว้ในตัวแปร url\n",
    "page = ...\n",
    "url = ...\n",
    "\n",
    "\n",
    "#Step 3 : ใช้ urllib ดึงข้อมูลเข้ามาเก็บไว้ใน html\n",
    "html =  ...\n",
    "\n",
    "\n",
    "#Step 4 : ใช้ BeautifulSoup แปลง ข้อมูล ให้อยู่ใน format ของ html\n",
    "soup = ...\n",
    "\n",
    "\n",
    "#Step 5 : ใช้ soup หา string 'วงดนตรี' จากนั้นหา 'table' แล้วเก้บไว้ในตัวแปร table\n",
    "table =...\n",
    "\n",
    "\n",
    "#Step 6 : copy ตัวแปร table มาเก็บไว้ใน simplified_table แล้ววน for เพื่อ extract ตาราง\n",
    "simplified_table = ...\n",
    "for ....  in .... :\n",
    "    \n",
    "    \n",
    "#Step 7 : วน for ใน simplified_table โดยใช้ row เป็นหลักเพื่อแสดงข้อมูลรายชื่อวงดนตรี\n",
    "for .... in .... :\n",
    "    cells = ...\n",
    "    if len(cells):  \n",
    "        print(....)"
   ]
  }
 ],
 "metadata": {
  "colab": {
   "collapsed_sections": [],
   "default_view": {},
   "name": "assignment1.ipynb",
   "provenance": [],
   "version": "0.3.2",
   "views": {}
  },
  "kernelspec": {
   "display_name": "Python 3",
   "language": "python",
   "name": "python3"
  },
  "language_info": {
   "codemirror_mode": {
    "name": "ipython",
    "version": 3
   },
   "file_extension": ".py",
   "mimetype": "text/x-python",
   "name": "python",
   "nbconvert_exporter": "python",
   "pygments_lexer": "ipython3",
   "version": "3.5.2"
  }
 },
 "nbformat": 4,
 "nbformat_minor": 2
}
