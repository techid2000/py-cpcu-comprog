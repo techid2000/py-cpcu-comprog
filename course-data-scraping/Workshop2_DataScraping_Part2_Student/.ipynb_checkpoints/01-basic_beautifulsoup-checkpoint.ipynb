{
 "cells": [
  {
   "cell_type": "markdown",
   "metadata": {
    "colab": {
     "autoexec": {
      "startup": false,
      "wait_interval": 0
     }
    },
    "colab_type": "code",
    "id": "SdxifaWH0xwn"
   },
   "source": [
    "# Beautiful Soup\n",
    "\n",
    "BeautifulSoup คือ Python library สำหรับดึงข้อมูลหน้าเว็บไซต์ หรือ HTML ซึ่งเป็นตัว Parser ทำให้ผู้ใช้สามารถจัดการข้อมูลหน้าเว็บได้ง่ายและรวดเร็ว\n",
    "https://www.crummy.com/software/BeautifulSoup/bs4/doc/"
   ]
  },
  {
   "cell_type": "code",
   "execution_count": null,
   "metadata": {},
   "outputs": [],
   "source": [
    "from bs4 import BeautifulSoup\n",
    "\n",
    "example = '''\n",
    "<body>\n",
    "  <h1>aHeader</h1>\n",
    "  <div class=\"section1\">\n",
    "    <p>\n",
    "      <a href=\"#\">aLink</a>\n",
    "    </p>\n",
    "  </div>\n",
    "  <div class=\"section2\">\n",
    "    <img src=\"img.jpg\"/>\n",
    "  </div>\n",
    "</body>\n",
    "'''\n",
    "\n",
    "s = BeautifulSoup(example, 'html.parser')\n",
    "print(s)"
   ]
  },
  {
   "cell_type": "markdown",
   "metadata": {},
   "source": [
    "การใช้งานฟังก์ชัน .prettify() จะช่วยจัดหน้า html ให้มีความสวยงามและเป็นระเบียบมากขึ้น"
   ]
  },
  {
   "cell_type": "code",
   "execution_count": null,
   "metadata": {},
   "outputs": [],
   "source": [
    "#ลองรันดูสิ สวยขึ้นกว่าเดิมเยอะเลย\n",
    "\n",
    "print(s.prettify()) "
   ]
  },
  {
   "cell_type": "markdown",
   "metadata": {},
   "source": [
    "ถ้าต้องการแสดงผลเฉพาะส่วน body เพียงแค่ใส่ .body ก็จะได้ข้อมูลส่วน body"
   ]
  },
  {
   "cell_type": "code",
   "execution_count": null,
   "metadata": {
    "colab": {
     "autoexec": {
      "startup": false,
      "wait_interval": 0
     }
    },
    "colab_type": "code",
    "id": "s2fahwUI0xwt"
   },
   "outputs": [],
   "source": [
    "s.body"
   ]
  },
  {
   "cell_type": "markdown",
   "metadata": {},
   "source": [
    "ถ้าหากต้องการ tag ที่เป็น h1 สามารถใช้คำสั่ง .h1 ได้ หรืออาจจะใช้ฟังก์ชัน .find('h1') ก็ได้เหมือนกัน"
   ]
  },
  {
   "cell_type": "code",
   "execution_count": null,
   "metadata": {
    "colab": {
     "autoexec": {
      "startup": false,
      "wait_interval": 0
     }
    },
    "colab_type": "code",
    "id": "scijow1j0xwy"
   },
   "outputs": [],
   "source": [
    "s.h1\n",
    "#s.find('h1')"
   ]
  },
  {
   "cell_type": "markdown",
   "metadata": {},
   "source": [
    "โดยปกติแล้วถ้าใช้ .ตามด้วยชื่อ tag เราจะได้ tag แรกสุดที่เจอเท่านั้น"
   ]
  },
  {
   "cell_type": "code",
   "execution_count": null,
   "metadata": {
    "colab": {
     "autoexec": {
      "startup": false,
      "wait_interval": 0
     }
    },
    "colab_type": "code",
    "id": "zIMH1UX90xw2"
   },
   "outputs": [],
   "source": [
    "s.div\n",
    "# s.find('div')"
   ]
  },
  {
   "cell_type": "markdown",
   "metadata": {},
   "source": [
    "ถ้าต้องการหา tag ทั้งหมดสามารถทำได้โดยใช้ ('div) หรืออาจจะใช้ฟังก์ชัน .find_all('div) ก็ได้เหมือนกัน (return กลับมาเป็น list)"
   ]
  },
  {
   "cell_type": "code",
   "execution_count": null,
   "metadata": {
    "colab": {
     "autoexec": {
      "startup": false,
      "wait_interval": 0
     }
    },
    "colab_type": "code",
    "id": "KEtkQFO_0xw6"
   },
   "outputs": [],
   "source": [
    "s('div')\n",
    "# s.find_all('div')"
   ]
  },
  {
   "cell_type": "code",
   "execution_count": null,
   "metadata": {
    "colab": {
     "autoexec": {
      "startup": false,
      "wait_interval": 0
     }
    },
    "colab_type": "code",
    "id": "27cfk97m0xw-"
   },
   "outputs": [],
   "source": [
    "s('div')[1]"
   ]
  },
  {
   "cell_type": "markdown",
   "metadata": {},
   "source": [
    "เราสามารถใช้ฟังก์ชัน .find ในการหา tag ที่เราต้องการด้วย string , attribute , หรือ class ที่ต้องการได้"
   ]
  },
  {
   "cell_type": "code",
   "execution_count": null,
   "metadata": {
    "colab": {
     "autoexec": {
      "startup": false,
      "wait_interval": 0
     }
    },
    "colab_type": "code",
    "id": "OiHN7OSB0xxA"
   },
   "outputs": [],
   "source": [
    "#ลองไล่ uncomment แล้วรันดูทีละคำสั่ง\n",
    "\n",
    "s.find(string='aHeader')\n",
    "#s.find('h1', string='aHeader')\n",
    "#s.find(attrs={'class': 'section1'})\n",
    "#s.find(class_='section1')"
   ]
  },
  {
   "cell_type": "code",
   "execution_count": null,
   "metadata": {
    "colab": {
     "autoexec": {
      "startup": false,
      "wait_interval": 0
     }
    },
    "colab_type": "code",
    "id": "h3atpKp90xxC"
   },
   "outputs": [],
   "source": [
    "#ลองเล่นทีละคำสั่งดูสิ\n",
    "\n",
    "s.div.name\n",
    "s.div.text\n",
    "s.div.parent\n",
    "s.div.previous_sibling # ทำไม?\n",
    "s.div.previous_sibling.previous_sibling\n",
    "s.div.next_sibling # ทำไม?\n",
    "s.div.next_sibling.next_sibling\n",
    "s.div.contents \n",
    "s.div.next_element # ทำไม?\n",
    "s.div.next_element.next_element"
   ]
  },
  {
   "cell_type": "code",
   "execution_count": null,
   "metadata": {
    "colab": {
     "autoexec": {
      "startup": false,
      "wait_interval": 0
     }
    },
    "colab_type": "code",
    "id": "MqrlBPsC0xxF"
   },
   "outputs": [],
   "source": [
    "s.div.find_previous_sibling()\n",
    "s.div.find_next_sibling()"
   ]
  },
  {
   "cell_type": "code",
   "execution_count": null,
   "metadata": {
    "colab": {
     "autoexec": {
      "startup": false,
      "wait_interval": 0
     }
    },
    "colab_type": "code",
    "id": "ToGluLPX0xxI"
   },
   "outputs": [],
   "source": [
    "s.a.find_next_sibling()\n",
    "# None\n",
    "\n",
    "s.a.find_next()\n",
    "s.a.find_next('img')\n",
    "# s.a.find_parent('div')\n",
    "# s.a.find_parent('body')"
   ]
  },
  {
   "cell_type": "code",
   "execution_count": null,
   "metadata": {
    "colab": {
     "autoexec": {
      "startup": false,
      "wait_interval": 0
     }
    },
    "colab_type": "code",
    "id": "mNVWCaOq0xxK"
   },
   "outputs": [],
   "source": [
    "s.find('div', class_='section2') \\\n",
    "  .find_previous_sibling('h1')"
   ]
  },
  {
   "cell_type": "code",
   "execution_count": null,
   "metadata": {},
   "outputs": [],
   "source": []
  }
 ],
 "metadata": {
  "colab": {
   "default_view": {},
   "name": "01a-beautifulsoup-primer.ipynb",
   "private_outputs": true,
   "provenance": [],
   "version": "0.3.2",
   "views": {}
  },
  "kernelspec": {
   "display_name": "Python 3",
   "language": "python",
   "name": "python3"
  },
  "language_info": {
   "codemirror_mode": {
    "name": "ipython",
    "version": 3
   },
   "file_extension": ".py",
   "mimetype": "text/x-python",
   "name": "python",
   "nbconvert_exporter": "python",
   "pygments_lexer": "ipython3",
   "version": "3.5.2"
  }
 },
 "nbformat": 4,
 "nbformat_minor": 2
}
