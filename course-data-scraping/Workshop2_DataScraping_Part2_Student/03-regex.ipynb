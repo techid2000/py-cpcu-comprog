{
 "cells": [
  {
   "cell_type": "markdown",
   "metadata": {
    "colab_type": "text",
    "id": "DnnC5uuLznBP"
   },
   "source": [
    "# Regular Expressions"
   ]
  },
  {
   "cell_type": "code",
   "execution_count": null,
   "metadata": {
    "colab": {
     "autoexec": {
      "startup": false,
      "wait_interval": 0
     }
    },
    "colab_type": "code",
    "id": "hyl67OZCznBQ"
   },
   "outputs": [],
   "source": [
    "import re"
   ]
  },
  {
   "cell_type": "markdown",
   "metadata": {
    "colab_type": "text",
    "id": "3Khl4K--znBZ"
   },
   "source": [
    "## PPAP by Pikotaro (Daimaou Kosaka)"
   ]
  },
  {
   "cell_type": "code",
   "execution_count": null,
   "metadata": {
    "colab": {
     "autoexec": {
      "startup": false,
      "wait_interval": 0
     }
    },
    "colab_type": "code",
    "id": "2TybPiu3znBa"
   },
   "outputs": [],
   "source": [
    "#from IPython.display import YouTubeVideo\n",
    "#YouTubeVideo('0E00Zuayv9Q')"
   ]
  },
  {
   "cell_type": "code",
   "execution_count": null,
   "metadata": {
    "colab": {
     "autoexec": {
      "startup": false,
      "wait_interval": 0
     }
    },
    "colab_type": "code",
    "id": "FhnmnVIJznBh"
   },
   "outputs": [],
   "source": [
    "ppap = 'P-P-A-P I have a pen, I have an apple. Uh! Apple-Pen! I have a pen, I have pineapple. Uh! Pineapple-Pen! Apple-Pen, Pineapple-Pen Uh! Pen-Pineapple-Apple-Pen Pen-Pineapple-Apple-Pen.'\n",
    "print(ppap)"
   ]
  },
  {
   "cell_type": "markdown",
   "metadata": {
    "colab_type": "text",
    "id": "pgb_u1ByznBm"
   },
   "source": [
    "## `re.search()`\n",
    "\n",
    "แสกนหา string ที่ตำแหน่งแรกสุดที่ match กับ regular expression \n",
    "\n",
    "และ return `MatchObject` ถ้าพบรูปแบบของ string ดังกล่าว หรือ return `None` ถ้าไม่พบรูปแบบของ string \n",
    "\n",
    "(อ่านเพิ่มเติมได้ที่ : https://docs.python.org/2/library/re.html#re.search)"
   ]
  },
  {
   "cell_type": "code",
   "execution_count": null,
   "metadata": {
    "colab": {
     "autoexec": {
      "startup": false,
      "wait_interval": 0
     }
    },
    "colab_type": "code",
    "id": "VrOsjwtXznBn"
   },
   "outputs": [],
   "source": [
    "pattern = re.compile('pen', re.IGNORECASE)\n",
    "result = pattern.search(ppap)\n",
    "print(result)"
   ]
  },
  {
   "cell_type": "markdown",
   "metadata": {
    "colab_type": "text",
    "id": "Bcavc6XoznBv"
   },
   "source": [
    "Alternatively, "
   ]
  },
  {
   "cell_type": "code",
   "execution_count": null,
   "metadata": {
    "colab": {
     "autoexec": {
      "startup": false,
      "wait_interval": 0
     }
    },
    "colab_type": "code",
    "id": "4b5xvqUqznBw"
   },
   "outputs": [],
   "source": [
    "result = re.search('pen', ppap, re.IGNORECASE)\n",
    "print(result)"
   ]
  },
  {
   "cell_type": "markdown",
   "metadata": {
    "colab_type": "text",
    "id": "Z2x7J8-lznBz"
   },
   "source": [
    "### จัดการกับ `MatchObject`\n",
    "\n",
    "\n",
    "(อ่านเพิ่มเติมได้ที่ : https://docs.python.org/2/library/re.html#match-objects)"
   ]
  },
  {
   "cell_type": "code",
   "execution_count": null,
   "metadata": {
    "colab": {
     "autoexec": {
      "startup": false,
      "wait_interval": 0
     }
    },
    "colab_type": "code",
    "id": "8QRJy2GhznB1"
   },
   "outputs": [],
   "source": [
    "# แสดงผลคำที่ค้นหาเจอ\n",
    "print(result.group(0)) "
   ]
  },
  {
   "cell_type": "code",
   "execution_count": null,
   "metadata": {},
   "outputs": [],
   "source": [
    "# index แรกสุดของคำที่พบคำแรกสุด ในที่นี้คือตัวอักษร 'p' ของคำว่า 'pen' ในตัวแปร ppap\n",
    "\n",
    "print(result.start())"
   ]
  },
  {
   "cell_type": "code",
   "execution_count": null,
   "metadata": {},
   "outputs": [],
   "source": [
    "# index สุดท้ายของคำที่พบคำแรกสุด ในที่นี้คือตัวอักษร 'n' ของคำว่า 'pen' ในตัวแปร ppap\n",
    "\n",
    "print(result.end())"
   ]
  },
  {
   "cell_type": "code",
   "execution_count": null,
   "metadata": {},
   "outputs": [],
   "source": [
    "# แสดงผลตำแหน่งเริ่มต้น - สุดท้าย ของคำที่หาเจอในตัวแปร ppap\n",
    "\n",
    "print(ppap[result.start() : result.end()]) "
   ]
  },
  {
   "cell_type": "markdown",
   "metadata": {
    "colab_type": "text",
    "id": "cSvOr6X6znB5"
   },
   "source": [
    "## `re.match()`\n",
    "\n",
    "ถ้าไม่พบคำที่ต้องการ match **ที่ตำแหน่งเริ่มต้นของ string** จะ return `None` ในกรณีที่พบจะคืน `MatchObject`\n",
    "\n",
    "(อ่านเพิ่มเติมได้ที่ : https://docs.python.org/2/library/re.html#re.match)\n",
    "\n",
    "**NOTE:** ถ้าต้องการ match คำ ณ ที่ใดๆใน string, ให้ใช้ `re.search()` แทน\n",
    "(อ่านเพิ่มเติมได้ที่ : https://docs.python.org/2/library/re.html#search-vs-match) "
   ]
  },
  {
   "cell_type": "code",
   "execution_count": null,
   "metadata": {
    "colab": {
     "autoexec": {
      "startup": false,
      "wait_interval": 0
     }
    },
    "colab_type": "code",
    "id": "OG5k2ZXDznB7"
   },
   "outputs": [],
   "source": [
    "# จะ return None เพราะส่วนต้นของประโยคคือ P-P-A-P I have a .......\n",
    "\n",
    "result = re.match('pen', ppap, re.IGNORECASE)\n",
    "print(result)"
   ]
  },
  {
   "cell_type": "code",
   "execution_count": null,
   "metadata": {
    "colab": {
     "autoexec": {
      "startup": false,
      "wait_interval": 0
     }
    },
    "colab_type": "code",
    "id": "IGmLWcxQznCH"
   },
   "outputs": [],
   "source": [
    "# เนื่องจากคำที่ match อยู่ในส่วนต้นของประโยคทำให้ matchเจอ\n",
    "\n",
    "result = re.match('P-P-A-P', ppap) \n",
    "print(result.group(0))"
   ]
  },
  {
   "cell_type": "code",
   "execution_count": null,
   "metadata": {},
   "outputs": [],
   "source": [
    "# P-P-A-P I have a pen, I อยู่ในส่วนของต้นประโยคทำให้ match เจอ\n",
    "\n",
    "result = re.match('P-P-A-P I have a pen, I', ppap) \n",
    "print(result.group(0))"
   ]
  },
  {
   "cell_type": "code",
   "execution_count": null,
   "metadata": {},
   "outputs": [],
   "source": [
    "# ลองเปลี่ยนเป็น -P ซึ่งไม่ใช่ string ที่เริ่มต้นประโยค ก็แน่หละ.... match ไม่เจออยู่แล้ว\n",
    "\n",
    "result = re.match('-P', ppap) \n",
    "print(result)"
   ]
  },
  {
   "cell_type": "markdown",
   "metadata": {
    "colab_type": "text",
    "id": "ETF1DUlQznCM"
   },
   "source": [
    "## `re.findall()`\n",
    "\n",
    "คืนค่า List ของ string จากรูปแบบของคำที่ค้นหาโดยไม่ overlapping ซึ่ง string จะถูกค้นหาจากซ้ายไปขวา แล้วจะคืนค่าโดยเรียงลำดับคำที่พบ \n",
    "\n",
    "(อ่านเพิ่มเติมได้ที่ : https://docs.python.org/2/library/re.html#re.findall) \n",
    "\n",
    "### How many times does Pikotaro say \"pen\"? \n"
   ]
  },
  {
   "cell_type": "code",
   "execution_count": null,
   "metadata": {
    "colab": {
     "autoexec": {
      "startup": false,
      "wait_interval": 0
     }
    },
    "colab_type": "code",
    "id": "U14ZIkNAznCN"
   },
   "outputs": [],
   "source": [
    "result = re.findall('pen', ppap, re.IGNORECASE)\n",
    "print(result)\n",
    "print('He says \"pen\" %d times!' % len(result))"
   ]
  },
  {
   "cell_type": "code",
   "execution_count": null,
   "metadata": {
    "colab": {
     "autoexec": {
      "startup": false,
      "wait_interval": 0
     }
    },
    "colab_type": "code",
    "id": "zwCglhuDznCQ"
   },
   "outputs": [],
   "source": [
    "print(re.findall('I.*apple', ppap))"
   ]
  },
  {
   "cell_type": "markdown",
   "metadata": {
    "colab_type": "text",
    "id": "UZaJmptnznCY"
   },
   "source": [
    "## `re.finditer()`\n",
    "\n",
    "คืนค่ารูปแบบของคำที่ต้องการค้นหาตาม regular expression พร้อมทั้ง index ของแต่ละคำนั้น \n",
    "\n",
    "(อ่านเพิ่มเติมได้ที่ : https://docs.python.org/2/library/re.html#re.finditer) \n",
    "\n",
    "จากตัวอยางก่อนหน้า, คุณจะรู้ว่าแต่ละคำอยู่ที่ตำแหน่งใดบ้างในเพลงของ Pikotaro ที่ร้องว่า \"pen\""
   ]
  },
  {
   "cell_type": "code",
   "execution_count": null,
   "metadata": {
    "colab": {
     "autoexec": {
      "startup": false,
      "wait_interval": 0
     }
    },
    "colab_type": "code",
    "id": "eFY0FYVMznCZ"
   },
   "outputs": [],
   "source": [
    "result = re.finditer('pen', ppap, re.IGNORECASE)\n",
    "for m in result:\n",
    "    print('%s at position %d' % (m.group(0), m.start()))"
   ]
  },
  {
   "cell_type": "markdown",
   "metadata": {
    "colab_type": "text",
    "id": "0MyDIUxpznCg"
   },
   "source": [
    "## Functions อื่นๆ\n",
    "\n",
    "ยังมี function อื่นๆที่น่าสนใจสำหรับการประมวณผลคำ เช่น `re.split()` และ `re.sub()`"
   ]
  },
  {
   "cell_type": "code",
   "execution_count": null,
   "metadata": {
    "colab": {
     "autoexec": {
      "startup": false,
      "wait_interval": 0
     }
    },
    "colab_type": "code",
    "id": "ddEnG6cDznCi"
   },
   "outputs": [],
   "source": [
    "# การใช้งานจะคล้ายกับ split(\"pen\") ในเรื่อง string ของภาษา python\n",
    "\n",
    "result = re.split('pen', ppap, re.IGNORECASE)\n",
    "print(result)"
   ]
  },
  {
   "cell_type": "code",
   "execution_count": null,
   "metadata": {
    "colab": {
     "autoexec": {
      "startup": false,
      "wait_interval": 0
     }
    },
    "colab_type": "code",
    "id": "rEE9nLXbznCp"
   },
   "outputs": [],
   "source": [
    "# ใช้ในการแทนที่คำ ในที่นี้จะทำการแทนที่คำว่า 'pen' ด้วยคำว่า 'phone' \n",
    "\n",
    "result = re.sub('pen', 'phone', ppap, flags=re.IGNORECASE)\n",
    "print(result)"
   ]
  },
  {
   "cell_type": "markdown",
   "metadata": {
    "colab_type": "text",
    "id": "jf17CltEznCy"
   },
   "source": [
    "## Regular Expression Syntax [Optional]\n",
    "\n",
    "จากที่เราได้เห็นตัวอย่างข้างต้นแล้ว รูปแบบ re ที่ง่ายที่สุดคือตัวเลขและตัวอักษร (alphanumeric strings) \n",
    "\n",
    "เช่นคำว่า 'pen' ซึ่งจะ match กับคำว่า 'pen' เพียงอย่างเดียวเท่านั้น \n",
    "\n",
    "หากเราต้องการให้รูปแบบการค้นหาของเรามีความยืดหยุ่นมากขึ้น ลองเล่นคำสั่งข้างล่างเหล่านี้ดูสิ\n",
    "\n",
    "(อ่านเพิ่มเติมได้ที่ : https://regexone.com/lesson/introduction_abcs)\n",
    "\n",
    "ตัวอย่างด้านล่างมาจาก Slide :"
   ]
  },
  {
   "cell_type": "code",
   "execution_count": null,
   "metadata": {
    "colab": {
     "autoexec": {
      "startup": false,
      "wait_interval": 0
     }
    },
    "colab_type": "code",
    "id": "nPi6h-feznC0"
   },
   "outputs": [],
   "source": [
    "re.findall('apple', ppap)"
   ]
  },
  {
   "cell_type": "code",
   "execution_count": null,
   "metadata": {
    "colab": {
     "autoexec": {
      "startup": false,
      "wait_interval": 0
     }
    },
    "colab_type": "code",
    "id": "aKXbv3wEznC6"
   },
   "outputs": [],
   "source": [
    "# ค้นหาคำที่ขึ้นต้นด้วย - หรือ เว้นวรรค แล้วตามด้วย 'a' หรือ 'A' ต่อด้วย 'pple'\n",
    "\n",
    "re.findall('[-\\s][aA]pple', ppap)"
   ]
  },
  {
   "cell_type": "code",
   "execution_count": null,
   "metadata": {
    "colab": {
     "autoexec": {
      "startup": false,
      "wait_interval": 0
     }
    },
    "colab_type": "code",
    "id": "veUlpPHyznC-"
   },
   "outputs": [],
   "source": [
    "re.findall('-P\\w+', ppap)"
   ]
  },
  {
   "cell_type": "code",
   "execution_count": null,
   "metadata": {
    "colab": {
     "autoexec": {
      "startup": false,
      "wait_interval": 0
     }
    },
    "colab_type": "code",
    "id": "0GOXYJOXznDB"
   },
   "outputs": [],
   "source": [
    "re.findall('-P\\w{3,}', ppap)"
   ]
  },
  {
   "cell_type": "code",
   "execution_count": null,
   "metadata": {
    "colab": {
     "autoexec": {
      "startup": false,
      "wait_interval": 0
     }
    },
    "colab_type": "code",
    "id": "OdDjCEJgznDF"
   },
   "outputs": [],
   "source": [
    "re.findall('I.*apple\\.', ppap)"
   ]
  },
  {
   "cell_type": "code",
   "execution_count": null,
   "metadata": {
    "colab": {
     "autoexec": {
      "startup": false,
      "wait_interval": 0
     }
    },
    "colab_type": "code",
    "id": "7JoVKHrvznDI"
   },
   "outputs": [],
   "source": [
    "re.findall('I.*?apple\\.', ppap)"
   ]
  },
  {
   "cell_type": "code",
   "execution_count": null,
   "metadata": {
    "colab": {
     "autoexec": {
      "startup": false,
      "wait_interval": 0
     }
    },
    "colab_type": "code",
    "id": "4f0-lLFGznDL"
   },
   "outputs": [],
   "source": [
    "re.findall('I have (a |an )?(\\w+)', ppap)"
   ]
  },
  {
   "cell_type": "code",
   "execution_count": null,
   "metadata": {
    "colab": {
     "autoexec": {
      "startup": false,
      "wait_interval": 0
     }
    },
    "colab_type": "code",
    "id": "d6Ll6WXMznDP"
   },
   "outputs": [],
   "source": [
    "re.findall('I have (?:a |an )?(\\w+)', ppap)"
   ]
  },
  {
   "cell_type": "markdown",
   "metadata": {},
   "source": [
    "## Example from previous lab : Faculty and School (CU)"
   ]
  },
  {
   "cell_type": "markdown",
   "metadata": {},
   "source": [
    "#### Find Faculty Name"
   ]
  },
  {
   "cell_type": "code",
   "execution_count": null,
   "metadata": {},
   "outputs": [],
   "source": [
    "import urllib.request\n",
    "import os"
   ]
  },
  {
   "cell_type": "code",
   "execution_count": null,
   "metadata": {},
   "outputs": [],
   "source": [
    "url = 'https://www.chula.ac.th/en/academics/faculties-and-schools'\n",
    "\n",
    "html = str(urllib.request.urlopen(url).read())"
   ]
  },
  {
   "cell_type": "code",
   "execution_count": null,
   "metadata": {},
   "outputs": [],
   "source": [
    "fac_list = re.findall('Faculty of \\w{3,}', html)\n",
    "for f in fac_list:\n",
    "    print(f)\n",
    "print(\"\\n Number of Faculties :\" , len(fac_list))"
   ]
  },
  {
   "cell_type": "code",
   "execution_count": null,
   "metadata": {},
   "outputs": [],
   "source": []
  }
 ],
 "metadata": {
  "colab": {
   "collapsed_sections": [],
   "default_view": {},
   "name": "03-regex.ipynb",
   "private_outputs": true,
   "provenance": [],
   "version": "0.3.2",
   "views": {}
  },
  "kernelspec": {
   "display_name": "Python 3",
   "language": "python",
   "name": "python3"
  },
  "language_info": {
   "codemirror_mode": {
    "name": "ipython",
    "version": 3
   },
   "file_extension": ".py",
   "mimetype": "text/x-python",
   "name": "python",
   "nbconvert_exporter": "python",
   "pygments_lexer": "ipython3",
   "version": "3.6.5"
  }
 },
 "nbformat": 4,
 "nbformat_minor": 2
}
