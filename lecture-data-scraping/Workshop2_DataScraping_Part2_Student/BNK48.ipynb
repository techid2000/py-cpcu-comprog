{
 "cells": [
  {
   "cell_type": "markdown",
   "metadata": {},
   "source": [
    "# Mini Lab : BNK48\n",
    "\n",
    "เขียนโค้ดรวบรวมสมาชิกวง BNK48 ทั้งรุ่นที่ 1 และรุ่นที่ 2 (ทั้งหมด 53 คน) จากเว็บไซต์ https://www.bnk48.com/#/members \n",
    "\n",
    "## BNK48 Generation 1 (26 คน)\n",
    "\n",
    "<img src=\"source/BNK_gen1.png\" >\n",
    "\n",
    "## BNK48 Generation 2 (27 คน)\n",
    "\n",
    "<img src=\"source/BNK_gen2.png\" >\n",
    "\n",
    "โดยให้พิมพ์ผลลัพธ์ออกมาในรูปแบบของไฟล์ tsv (tab-separated values) ซึ่งเป็นการคั่นข้อมูลในแต่ละคอลัมน์ด้วยอัขระแท็บ (`\\t` ในภาษาคอมพิวเตอร์) และประกอบด้วยคอลัมน์ดังต่อไปนี้\n",
    "\n",
    "```\n",
    "first_name_th  last_name_th  nickname_th  height  birth_date  province  instagram  hobbies_th\n",
    "เฌอปราง  อารีย์กุล  เฌอปราง  160  1996-05-02  Bangkok  cherprang.bnk48official  กิน, นอน, เล่นเกม, ฟังเพลง, Cosplay\n",
    "ปุณยวีร์   จึงเจริญ   ออม      157  1995-09-20  Chiang Mai  aom.bnk48official  ดูหนัง อ่านหนังสือ \n",
    "```\n"
   ]
  },
  {
   "cell_type": "markdown",
   "metadata": {},
   "source": [
    "**Hints 1:** \n",
    "- เริ่มต้นด้วยใช้ Developer Tools ใน Browser ในการหา URL ของ API\n",
    "- ข้อมูลวันเกิดที่ได้จาก API จะอยู่ในรูปแบบของ Unix Timestamp สามารถลองเปลี่ยนให้เป็นวันที่ปกติได้ที่ https://www.epochconverter.com/ \n",
    "- การแปลง Timestamp เป็นวันที่ใน Python https://www.w3resource.com/python-exercises/date-time-exercise/python-date-time-exercise-6.php\n",
    "- เพลงประกอบการทำการบ้าน 🎵 https://www.youtube.com/watch?v=A2VrbwgWjT0 🎵"
   ]
  },
  {
   "cell_type": "code",
   "execution_count": null,
   "metadata": {},
   "outputs": [],
   "source": [
    "#from IPython.display import YouTubeVideo\n",
    "#YouTubeVideo('A2VrbwgWjT0')"
   ]
  },
  {
   "cell_type": "code",
   "execution_count": null,
   "metadata": {},
   "outputs": [],
   "source": [
    "#Step 1 : import library \n",
    "\n",
    "import urllib.request\n",
    "import datetime\n",
    "import json"
   ]
  },
  {
   "cell_type": "code",
   "execution_count": null,
   "metadata": {},
   "outputs": [],
   "source": [
    "#Step 2 : ใช้ urllib ดึงข้อมูลเข้ามาเก้บไว้ใน response\n",
    "\n",
    "response = urllib.request.urlopen(\"https://www.api.bnk48.com/api/members\")"
   ]
  },
  {
   "cell_type": "code",
   "execution_count": null,
   "metadata": {},
   "outputs": [],
   "source": [
    "#Step 3.1 : อ่าน method .read() เพื่ออ่านข้อมูลจากนั้น \n",
    "#Step 3.2 : ใช้ .decode('utf-8') เพื่อแปลงข้อมูลจาก 3.1 ให้อยู่ในรูปแบบ 'utf-8' \n",
    "#Step 3.3 : จากนั้นจึงใช้ json อ่านข้อมูลจาก 3.2 มาเก้บไว้ในตัวแปร data\n",
    "data = json.loads((response.read().decode('utf-8')))"
   ]
  },
  {
   "cell_type": "markdown",
   "metadata": {},
   "source": [
    "เราสามารถใช้ function -> datetime.datetime.fromtimestamp(....) เพื่อ decode Timestamp ในภาษา python\n",
    "ดังตัวอย่างด้านล่างนี้"
   ]
  },
  {
   "cell_type": "code",
   "execution_count": null,
   "metadata": {},
   "outputs": [],
   "source": [
    "# แสดงหัวตาราง ประกอบด้วย first_name, last_name, nickname_th, height, birth_date, provinc, instagram, hobbies_th\n",
    "print(\"first_name_th\\tlast_name_th\\tnickname_th\\theight\\tbirth_date\\tprovinc\\tinstagram\\thobbies_th\")\n",
    "\n",
    "#Step 4 : วน for loop ใน data โดยเลือก column ที่เหมาะสมมาแสดงผลตามที่โจทย์ต้องการ \n",
    "for member in data['members']:\n",
    "    first_name = member['first_name']['th']\n",
    "    last_name = member['last_name']['th']\n",
    "    nickname = member['nickname']['th']\n",
    "    height = member['height']\n",
    "    birth_date = member['birth_date']\n",
    "    province = member['province']\n",
    "    instagram = member['instagram']\n",
    "    hobbies = member['bio']['hobbies']['th']\n",
    "    print(first_name + \"\\t\" + last_name + \"\\t\" + nickname + \"\\t\" + str(height) + \"\\t\"+ str(datetime.datetime.fromtimestamp(int(birth_date)/1000).strftime('%Y-%m-%d')) + \"\\t\" + province + \"\\t\" + instagram + \"\\t\" + hobbies)"
   ]
  },
  {
   "cell_type": "code",
   "execution_count": null,
   "metadata": {},
   "outputs": [],
   "source": []
  }
 ],
 "metadata": {
  "kernelspec": {
   "display_name": "Python 3",
   "language": "python",
   "name": "python3"
  },
  "language_info": {
   "codemirror_mode": {
    "name": "ipython",
    "version": 3
   },
   "file_extension": ".py",
   "mimetype": "text/x-python",
   "name": "python",
   "nbconvert_exporter": "python",
   "pygments_lexer": "ipython3",
   "version": "3.6.5"
  }
 },
 "nbformat": 4,
 "nbformat_minor": 2
}
