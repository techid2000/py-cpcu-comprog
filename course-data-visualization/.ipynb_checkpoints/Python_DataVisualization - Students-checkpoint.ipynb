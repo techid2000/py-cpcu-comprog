{
 "cells": [
  {
   "cell_type": "code",
   "execution_count": 6,
   "metadata": {},
   "outputs": [
    {
     "name": "stdout",
     "output_type": "stream",
     "text": [
      "Python version: 3.6.5 |Anaconda, Inc.| (default, Mar 29 2018, 13:32:41) [MSC v.1900 64 bit (AMD64)]\n"
     ]
    }
   ],
   "source": [
    "import platform\n",
    "#ตรวจสอบเวอร์ชันไพธอน\n",
    "print(\"Python version: {}\".format(platform.sys.version))"
   ]
  },
  {
   "cell_type": "code",
   "execution_count": 7,
   "metadata": {},
   "outputs": [
    {
     "name": "stdout",
     "output_type": "stream",
     "text": [
      "Found that file\n"
     ]
    }
   ],
   "source": [
    "import os\n",
    "''' เราจะเช็ค path ของไฟล์ excel ชนิด (.csv) ก่อนว่ามีไฟล์ชนิดนี้อยู่ใน folder เดียวกันกับไฟล์ jupyter ไหม\n",
    "ด้วยการเรียกใช้ module ของไพธอน คือ os.path.exists() \n",
    "'''\n",
    "file_name = 'exams_100.csv'\n",
    "if os.path.exists(file_name):\n",
    "    print('Found that file')\n",
    "else:\n",
    "    print('Please check a csv file.')\n"
   ]
  },
  {
   "cell_type": "code",
   "execution_count": 8,
   "metadata": {},
   "outputs": [],
   "source": [
    "import pandas as pd\n",
    "import matplotlib.pyplot as plt"
   ]
  },
  {
   "cell_type": "code",
   "execution_count": 9,
   "metadata": {
    "scrolled": false
   },
   "outputs": [
    {
     "name": "stdout",
     "output_type": "stream",
     "text": [
      "   gender race/ethnicity parental level of education     lunch  \\\n",
      "0  female        group C            some high school  standard   \n",
      "1  female        group D                 high school  standard   \n",
      "2  female        group E                 high school  standard   \n",
      "3    male        group C                 high school  standard   \n",
      "4    male        group C          associate's degree  standard   \n",
      "\n",
      "  test preparation course  math score  reading score  writing score  \n",
      "0                    none          67             65             69  \n",
      "1               completed          66             75             78  \n",
      "2                    none          76             74             75  \n",
      "3               completed          70             76             67  \n",
      "4                    none          56             49             49  \n"
     ]
    }
   ],
   "source": [
    "#อ่านไฟล์ csv แล้วเอาค่ามาเก็บไว้ในตัวแปรหนึ่งที่ชื่อว่า 'csv_data'\n",
    "csv_data = pd.read_csv(file_name)\n",
    "print(csv_data.head())"
   ]
  },
  {
   "cell_type": "markdown",
   "metadata": {},
   "source": [
    "# TO DO 1 :  แสดงผลข้อมูลเป็นจำนวน 50 แถว"
   ]
  },
  {
   "cell_type": "markdown",
   "metadata": {},
   "source": [
    "![title](imgs/result_of_todo1.png)"
   ]
  },
  {
   "cell_type": "code",
   "execution_count": 10,
   "metadata": {},
   "outputs": [
    {
     "name": "stdout",
     "output_type": "stream",
     "text": [
      "    gender race/ethnicity parental level of education         lunch  \\\n",
      "0   female        group C            some high school      standard   \n",
      "1   female        group D                 high school      standard   \n",
      "2   female        group E                 high school      standard   \n",
      "3     male        group C                 high school      standard   \n",
      "4     male        group C          associate's degree      standard   \n",
      "5   female        group D          associate's degree      standard   \n",
      "6     male        group D                 high school      standard   \n",
      "7   female        group E            some high school  free/reduced   \n",
      "8   female        group D          associate's degree  free/reduced   \n",
      "9   female        group D                some college      standard   \n",
      "10  female        group D            some high school  free/reduced   \n",
      "11  female        group B                 high school  free/reduced   \n",
      "12    male        group C                some college      standard   \n",
      "13  female        group B                some college      standard   \n",
      "14    male        group C                 high school      standard   \n",
      "15  female        group B                some college      standard   \n",
      "16  female        group E                some college  free/reduced   \n",
      "17    male        group E                some college      standard   \n",
      "18  female        group C          associate's degree      standard   \n",
      "19  female        group E                 high school      standard   \n",
      "20    male        group B            some high school  free/reduced   \n",
      "21    male        group E             master's degree  free/reduced   \n",
      "22    male        group C            some high school      standard   \n",
      "23    male        group C            some high school      standard   \n",
      "24    male        group E                 high school      standard   \n",
      "25    male        group D             master's degree      standard   \n",
      "26    male        group D          associate's degree      standard   \n",
      "27  female        group D            some high school  free/reduced   \n",
      "28  female        group E                some college  free/reduced   \n",
      "29    male        group D            some high school  free/reduced   \n",
      "30  female        group E           bachelor's degree  free/reduced   \n",
      "31    male        group B           bachelor's degree      standard   \n",
      "32  female        group C          associate's degree      standard   \n",
      "33    male        group D                 high school      standard   \n",
      "34  female        group C            some high school  free/reduced   \n",
      "35    male        group D                 high school      standard   \n",
      "36    male        group B          associate's degree      standard   \n",
      "37  female        group C          associate's degree      standard   \n",
      "38    male        group C          associate's degree  free/reduced   \n",
      "39    male        group B                some college      standard   \n",
      "40    male        group C           bachelor's degree      standard   \n",
      "41    male        group A            some high school      standard   \n",
      "42    male        group D                 high school      standard   \n",
      "43  female        group C             master's degree  free/reduced   \n",
      "44    male        group A          associate's degree      standard   \n",
      "45    male        group C            some high school  free/reduced   \n",
      "46  female        group D                 high school      standard   \n",
      "47    male        group A             master's degree      standard   \n",
      "48    male        group C          associate's degree  free/reduced   \n",
      "49  female        group C          associate's degree      standard   \n",
      "\n",
      "   test preparation course  math score  reading score  writing score  \n",
      "0                     none          67             65             69  \n",
      "1                completed          66             75             78  \n",
      "2                     none          76             74             75  \n",
      "3                completed          70             76             67  \n",
      "4                     none          56             49             49  \n",
      "5                completed          80             91             89  \n",
      "6                     none          53             55             55  \n",
      "7                completed          79             88             84  \n",
      "8                completed          69             70             73  \n",
      "9                     none          55             66             74  \n",
      "10                    none          51             46             54  \n",
      "11                    none          62             75             66  \n",
      "12               completed          66             53             51  \n",
      "13                    none          62             75             72  \n",
      "14                    none          71             71             61  \n",
      "15                    none          74             82             75  \n",
      "16                    none          65             57             62  \n",
      "17               completed          79             77             76  \n",
      "18                    none          79             82             80  \n",
      "19                    none          96             89             88  \n",
      "20                    none          53             52             48  \n",
      "21               completed          66             77             73  \n",
      "22               completed          64             59             54  \n",
      "23                    none          77             75             66  \n",
      "24                    none          95             68             65  \n",
      "25               completed          75             72             73  \n",
      "26                    none          79             59             67  \n",
      "27                    none          54             60             57  \n",
      "28                    none          59             72             67  \n",
      "29                    none          54             52             45  \n",
      "30                    none          79             91             88  \n",
      "31               completed          79             69             77  \n",
      "32                    none          65             80             75  \n",
      "33               completed          65             62             50  \n",
      "34               completed          64             74             78  \n",
      "35                    none          63             47             48  \n",
      "36                    none          78             74             71  \n",
      "37                    none          63             81             71  \n",
      "38               completed          55             49             57  \n",
      "39                    none          55             51             51  \n",
      "40                    none          53             46             43  \n",
      "41                    none          65             67             61  \n",
      "42               completed          78             83             81  \n",
      "43                    none          70             71             77  \n",
      "44                    none          84             86             83  \n",
      "45                    none          44             53             47  \n",
      "46               completed          64             78             81  \n",
      "47               completed          69             69             70  \n",
      "48                    none          64             57             56  \n",
      "49                    none          52             67             63  \n"
     ]
    }
   ],
   "source": [
    "#Write code below please.\n",
    "print(csv_data.head(50))"
   ]
  },
  {
   "cell_type": "markdown",
   "metadata": {},
   "source": [
    "# TO DO 2 : นับจำนวนนักเรียนเพศชาย-หญิงจากไฟล์ csv แล้วแสดงผลทางหน้าจอ"
   ]
  },
  {
   "cell_type": "markdown",
   "metadata": {},
   "source": [
    "![title](imgs/result_of_todo2.png)"
   ]
  },
  {
   "cell_type": "code",
   "execution_count": 11,
   "metadata": {},
   "outputs": [
    {
     "name": "stdout",
     "output_type": "stream",
     "text": [
      "Amount of student:  100\n",
      "Amount of male student:  51\n",
      "Amount of female student:  49\n"
     ]
    }
   ],
   "source": [
    "#Write code below please.\n",
    "gender = csv_data['gender']\n",
    "print(\"Amount of student: \",len(gender))\n",
    "m,fm = 0,0\n",
    "for i in gender:\n",
    "    if i == \"male\": m+=1\n",
    "    else: fm+=1\n",
    "print(\"Amount of male student: \",m)\n",
    "print(\"Amount of female student: \",fm)"
   ]
  },
  {
   "cell_type": "markdown",
   "metadata": {},
   "source": [
    "# TO DO 3 : สร้างกราฟแท่งเปรียบเทียบจำนวนนักเรียนเพศชาย-หญิง\n",
    "\n",
    "![title](imgs/result_of_todo3.png)"
   ]
  },
  {
   "cell_type": "code",
   "execution_count": 12,
   "metadata": {},
   "outputs": [
    {
     "data": {
      "image/png": "[encoded data removed]",
      "text/plain": [
       "<Figure size 432x288 with 1 Axes>"
      ]
     },
     "metadata": {},
     "output_type": "display_data"
    }
   ],
   "source": [
    "#Write code below please.\n",
    "y=[m,fm]\n",
    "x=['Male','Female']\n",
    "c=['green','blue']\n",
    "plt.bar(x,y,color=c,alpha=0.3)\n",
    "plt.show()"
   ]
  },
  {
   "cell_type": "markdown",
   "metadata": {},
   "source": [
    "# TO DO 4 : เรียงลำดับคะแนนวิชาคณิตศาสตร์และวิชาการอ่านของนักเรียนจากน้อยไปหามาก และแสดงผลคะแนนทั้ง 2 วิชาในรูปแบบกราฟเส้น โดยจำนวนนักเรียนที่ต้องการแสดงบนกราฟเส้นคือ 10 คนแรกที่มีคะแนนน้อยที่สุด\n",
    "\n",
    "![title](imgs/result_of_todo4.png)\n",
    "\n",
    "## ตกแต่งสีสันของกราฟได้ตามใจชอบ :)"
   ]
  },
  {
   "cell_type": "code",
   "execution_count": 13,
   "metadata": {},
   "outputs": [],
   "source": [
    "# Create index of 100 students and save it in a list \n",
    "index_student = [idx+1 for idx in range(len(gender))]\n",
    "#print(index_student) #นักเรียน 100 คน\n",
    "\n",
    "#ดึงค่าคะแนนของนักเรียนทั้ง 3 วิชามาจากDataFrameของPandas\n",
    "math_score = csv_data['math score']\n",
    "reading_score = csv_data['reading score']\n",
    "writing_score = csv_data['writing score']"
   ]
  },
  {
   "cell_type": "code",
   "execution_count": 14,
   "metadata": {},
   "outputs": [],
   "source": [
    "#เรียงค่าคะแนนวิชาคณิตศาตร์ และวิชาการอ่านจากน้อยไปหามาก\n",
    "#วิชาคณิตศาสตร์ \n",
    "#Write code below please.\n",
    "math_score=sorted(math_score)\n",
    "#วิชาการอ่าน\n",
    "#Write code below please.\n",
    "reading_score=sorted(reading_score)"
   ]
  },
  {
   "cell_type": "code",
   "execution_count": 32,
   "metadata": {},
   "outputs": [
    {
     "data": {
      "image/png": "[encoded data removed]",
      "text/plain": [
       "<Figure size 720x432 with 1 Axes>"
      ]
     },
     "metadata": {},
     "output_type": "display_data"
    }
   ],
   "source": [
    "#Write code below please.\n",
    "plt.figure(figsize=(10,6))\n",
    "plt.title('Line chart comparison on Math and Reading score of 10 students')\n",
    "plt.ylabel('Score')\n",
    "plt.xlabel('Individual student')\n",
    "plt.legend(['Math','Reading'])\n",
    "plt.plot(index_student[0:10],math_score[0:10],index_student[0:10],reading_score[0:10])\n",
    "plt.show()"
   ]
  },
  {
   "cell_type": "markdown",
   "metadata": {},
   "source": [
    "# TO DO 5: หาค่ามัธยฐานและค่าเฉลี่ยของแต่ละวิชา และนำไปแสดงผลบนกราฟแท่งแบบ Multiple plot \n",
    "\n",
    "\n",
    "![title](imgs/result_of_todo5_new.png)"
   ]
  },
  {
   "cell_type": "markdown",
   "metadata": {},
   "source": [
    "# การหาค่ามัธยฐาน\n",
    "![title](imgs/median_pic1.png)\n",
    "\n",
    "![title](imgs/median_pic2.png)"
   ]
  },
  {
   "cell_type": "markdown",
   "metadata": {},
   "source": [
    "![title](imgs/result_of_to_do_5_medianMath.png)"
   ]
  },
  {
   "cell_type": "code",
   "execution_count": 16,
   "metadata": {},
   "outputs": [
    {
     "name": "stdout",
     "output_type": "stream",
     "text": [
      "Median of math subject: 67.0\n"
     ]
    }
   ],
   "source": [
    "#Write code ยสำฟห please.\n",
    "median_math=0\n",
    "st=m+fm\n",
    "if(st%2==1):\n",
    "    median_math=math_score[(st-1)//2]\n",
    "else:\n",
    "    median_math=(math_score[st//2-1]+math_score[st//2])/2\n",
    "print(\"Median of math subject:\",median_math)\n"
   ]
  },
  {
   "cell_type": "markdown",
   "metadata": {},
   "source": [
    "![title](imgs/result_of_to_do_5_medianReading.png)"
   ]
  },
  {
   "cell_type": "code",
   "execution_count": 17,
   "metadata": {},
   "outputs": [
    {
     "name": "stdout",
     "output_type": "stream",
     "text": [
      "Median of reading subject: 71.0\n"
     ]
    }
   ],
   "source": [
    "#Write code below please.\n",
    "median_reading = 0\n",
    "if(st%2==1):\n",
    "    median_reading=reading_score[(st-1)//2]\n",
    "else:\n",
    "    median_reading=(reading_score[st//2-1]+reading_score[st//2])/2\n",
    "print(\"Median of reading subject:\",median_reading)"
   ]
  },
  {
   "cell_type": "markdown",
   "metadata": {},
   "source": [
    "![title](imgs/result_of_to_do_5_medianWritting.png)"
   ]
  },
  {
   "cell_type": "code",
   "execution_count": 18,
   "metadata": {},
   "outputs": [
    {
     "name": "stdout",
     "output_type": "stream",
     "text": [
      "Median of writing subject: 69.0\n"
     ]
    }
   ],
   "source": [
    "#Write code below please.\n",
    "median_writting = 0\n",
    "writing_score=sorted(writing_score)\n",
    "if(st%2==1):\n",
    "    median_writing=writing_score[(st-1)//2]\n",
    "else:\n",
    "    median_writing=(writing_score[st//2-1]+writing_score[st//2])/2\n",
    "print(\"Median of writing subject:\",median_writing)"
   ]
  },
  {
   "cell_type": "markdown",
   "metadata": {},
   "source": [
    "![title](imgs/result_of_to_do_5_Mean_all_subjects.png)"
   ]
  },
  {
   "cell_type": "code",
   "execution_count": 19,
   "metadata": {},
   "outputs": [],
   "source": [
    "#หาะแนนเฉลี่ยของแต่ละวิชา\n",
    "#Write code below  please.\n",
    "sum_math,sum_writing,sum_reading=0,0,0\n",
    "for i in math_score: sum_math+=i\n",
    "for i in reading_score: sum_reading+=i\n",
    "for i in writing_score: sum_writing+=i\n",
    "av_math=sum_math/st\n",
    "av_writing=sum_writing/st\n",
    "av_reading=sum_reading/st"
   ]
  },
  {
   "cell_type": "code",
   "execution_count": 27,
   "metadata": {},
   "outputs": [
    {
     "data": {
      "image/png": "[encoded data removed]",
      "text/plain": [
       "<Figure size 432x288 with 1 Axes>"
      ]
     },
     "metadata": {},
     "output_type": "display_data"
    }
   ],
   "source": [
    "#Plot multiple bar graph\n",
    "#Write code below please.\n",
    "xobj=['Math','Reading','Writing']\n",
    "width=0.5\n",
    "imean=[0,0.2+1,0.4+2]\n",
    "iavg=[0.5,0.2+1.5,0.4+2.5]\n",
    "inum=[0.25,0.2+1.25,0.4+2.25]\n",
    "ymean=[median_math,median_reading,median_writing]\n",
    "yavg=[av_math,av_reading,av_writing]\n",
    "plt.bar(imean,ymean,width)\n",
    "plt.bar(iavg,yavg,width)\n",
    "plt.ylabel('Scores')\n",
    "plt.title('Median and average scores')\n",
    "plt.xticks(inum,xobj)\n",
    "plt.legend(['Median','Average'])\n",
    "plt.show()"
   ]
  },
  {
   "cell_type": "code",
   "execution_count": null,
   "metadata": {},
   "outputs": [],
   "source": []
  },
  {
   "cell_type": "code",
   "execution_count": null,
   "metadata": {},
   "outputs": [],
   "source": []
  }
 ],
 "metadata": {
  "kernelspec": {
   "display_name": "Python 3",
   "language": "python",
   "name": "python3"
  },
  "language_info": {
   "codemirror_mode": {
    "name": "ipython",
    "version": 3
   },
   "file_extension": ".py",
   "mimetype": "text/x-python",
   "name": "python",
   "nbconvert_exporter": "python",
   "pygments_lexer": "ipython3",
   "version": "3.6.5"
  }
 },
 "nbformat": 4,
 "nbformat_minor": 2
}
